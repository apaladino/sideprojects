{
 "cells": [
  {
   "cell_type": "code",
   "execution_count": 1,
   "metadata": {},
   "outputs": [
    {
     "data": {
      "text/plain": [
       "Intitializing Scala interpreter ..."
      ]
     },
     "metadata": {},
     "output_type": "display_data"
    },
    {
     "data": {
      "text/plain": [
       "Spark Web UI available at http://10.0.0.160:4040\n",
       "SparkContext available as 'sc' (version = 2.2.1, master = local[*], app id = local-1584283617203)\n",
       "SparkSession available as 'spark'\n"
      ]
     },
     "metadata": {},
     "output_type": "display_data"
    },
    {
     "data": {
      "text/plain": [
       "x: Int = 2\n",
       "y: Int = 3\n",
       "res0: Int = 5\n"
      ]
     },
     "execution_count": 1,
     "metadata": {},
     "output_type": "execute_result"
    }
   ],
   "source": [
    "val x = 2\n",
    "val y = 3\n",
    "x+y"
   ]
  },
  {
   "cell_type": "code",
   "execution_count": 2,
   "metadata": {},
   "outputs": [
    {
     "name": "stdout",
     "output_type": "stream",
     "text": [
      "+---+---+---+\n",
      "| _1| _2| _3|\n",
      "+---+---+---+\n",
      "|  1|  2|  3|\n",
      "|  6|  7|  8|\n",
      "|  9| 19| 10|\n",
      "+---+---+---+\n",
      "\n"
     ]
    },
    {
     "data": {
      "text/plain": [
       "data: Seq[(Int, Int, Int)] = List((1,2,3), (6,7,8), (9,19,10))\n",
       "ds: org.apache.spark.sql.Dataset[(Int, Int, Int)] = [_1: int, _2: int ... 1 more field]\n"
      ]
     },
     "execution_count": 2,
     "metadata": {},
     "output_type": "execute_result"
    }
   ],
   "source": [
    "val data = Seq((1,2,3), (6,7,8), (9,19,10))\n",
    "val ds = spark.createDataset(data)\n",
    "ds.show()"
   ]
  },
  {
   "cell_type": "code",
   "execution_count": 35,
   "metadata": {
    "scrolled": true
   },
   "outputs": [
    {
     "data": {
      "text/plain": [
       "numbers: org.apache.spark.sql.DataFrame = [IgnoreServiceUntil: string, MBall: bigint ... 10 more fields]\n",
       "res34: Long = 5\n"
      ]
     },
     "execution_count": 35,
     "metadata": {},
     "output_type": "execute_result"
    }
   ],
   "source": [
    "val numbers = spark.read.json(\"mega_millions_numbers.dat\")\n",
    "numbers.count()"
   ]
  },
  {
   "cell_type": "code",
   "execution_count": 36,
   "metadata": {
    "scrolled": false
   },
   "outputs": [
    {
     "name": "stdout",
     "output_type": "stream",
     "text": [
      "+-------------------+-------+-------+-------+-------+\n",
      "| IgnoreServiceUntil|sum(N1)|avg(N1)|max(N1)|min(N1)|\n",
      "+-------------------+-------+-------+-------+-------+\n",
      "|2018-12-31T14:02:03|     26|    5.2|     10|      2|\n",
      "+-------------------+-------+-------+-------+-------+\n",
      "\n"
     ]
    }
   ],
   "source": [
    "numbers.groupBy(\"IgnoreServiceUntil\").agg(sum(\"N1\"), avg(\"N1\"), max(\"N1\"), min(\"N1\")).show()"
   ]
  },
  {
   "cell_type": "code",
   "execution_count": 45,
   "metadata": {},
   "outputs": [
    {
     "name": "stdout",
     "output_type": "stream",
     "text": [
      "+-------------------+-------+-------+-------+-------+-------+----------+\n",
      "| IgnoreServiceUntil|min(N1)|min(N2)|min(N3)|min(N4)|min(N5)|min(MBall)|\n",
      "+-------------------+-------+-------+-------+-------+-------+----------+\n",
      "|2018-12-31T14:02:03|      2|      6|     13|     16|     55|         4|\n",
      "+-------------------+-------+-------+-------+-------+-------+----------+\n",
      "\n"
     ]
    }
   ],
   "source": [
    "numbers.groupBy(\"IgnoreServiceUntil\")\n",
    ".min(\"N1\", \"N2\", \"N3\", \"N4\", \"N5\", \"MBall\")\n",
    ".show()\n"
   ]
  },
  {
   "cell_type": "code",
   "execution_count": 46,
   "metadata": {},
   "outputs": [
    {
     "name": "stdout",
     "output_type": "stream",
     "text": [
      "+-------------------+-------+-------+-------+-------+-------+----------+\n",
      "| IgnoreServiceUntil|max(N1)|max(N2)|max(N3)|max(N4)|max(N5)|max(MBall)|\n",
      "+-------------------+-------+-------+-------+-------+-------+----------+\n",
      "|2018-12-31T14:02:03|     10|     32|     48|     61|     70|        18|\n",
      "+-------------------+-------+-------+-------+-------+-------+----------+\n",
      "\n"
     ]
    }
   ],
   "source": [
    "numbers.groupBy(\"IgnoreServiceUntil\")\n",
    ".max(\"N1\", \"N2\", \"N3\", \"N4\", \"N5\", \"MBall\")\n",
    ".show()\n",
    "\n"
   ]
  },
  {
   "cell_type": "code",
   "execution_count": 48,
   "metadata": {
    "scrolled": true
   },
   "outputs": [
    {
     "name": "stdout",
     "output_type": "stream",
     "text": [
      "+-------------------+-------+-------+-------+-------+-------+----------+\n",
      "| IgnoreServiceUntil|avg(N1)|avg(N2)|avg(N3)|avg(N4)|avg(N5)|avg(MBall)|\n",
      "+-------------------+-------+-------+-------+-------+-------+----------+\n",
      "|2018-12-31T14:02:03|    5.2|   13.2|   35.0|   46.4|   62.4|       9.8|\n",
      "+-------------------+-------+-------+-------+-------+-------+----------+\n",
      "\n"
     ]
    }
   ],
   "source": [
    "numbers.groupBy(\"IgnoreServiceUntil\")\n",
    ".mean(\"N1\", \"N2\", \"N3\", \"N4\", \"N5\", \"MBall\")\n",
    ".show()\n",
    "\n"
   ]
  },
  {
   "cell_type": "code",
   "execution_count": null,
   "metadata": {},
   "outputs": [],
   "source": []
  }
 ],
 "metadata": {
  "kernelspec": {
   "display_name": "spylon-kernel",
   "language": "scala",
   "name": "spylon-kernel"
  },
  "language_info": {
   "codemirror_mode": "text/x-scala",
   "file_extension": ".scala",
   "help_links": [
    {
     "text": "MetaKernel Magics",
     "url": "https://metakernel.readthedocs.io/en/latest/source/README.html"
    }
   ],
   "mimetype": "text/x-scala",
   "name": "scala",
   "pygments_lexer": "scala",
   "version": "0.4.1"
  }
 },
 "nbformat": 4,
 "nbformat_minor": 2
}

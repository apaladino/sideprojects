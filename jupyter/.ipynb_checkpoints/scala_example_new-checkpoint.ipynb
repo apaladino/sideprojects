{
 "cells": [
  {
   "cell_type": "code",
   "execution_count": 1,
   "metadata": {},
   "outputs": [
    {
     "data": {
      "text/plain": [
       "Intitializing Scala interpreter ..."
      ]
     },
     "metadata": {},
     "output_type": "display_data"
    },
    {
     "data": {
      "text/plain": [
       "Spark Web UI available at http://10.0.0.169:4040\n",
       "SparkContext available as 'sc' (version = 3.0.0, master = local[*], app id = local-1594021588908)\n",
       "SparkSession available as 'spark'\n"
      ]
     },
     "metadata": {},
     "output_type": "display_data"
    },
    {
     "name": "stdout",
     "output_type": "stream",
     "text": [
      "+---+---+---+\n",
      "| _1| _2| _3|\n",
      "+---+---+---+\n",
      "|  1|  2|  3|\n",
      "|  6|  7|  8|\n",
      "|  9| 19| 10|\n",
      "+---+---+---+\n",
      "\n"
     ]
    },
    {
     "data": {
      "text/plain": [
       "data: Seq[(Int, Int, Int)] = List((1,2,3), (6,7,8), (9,19,10))\n",
       "ds: org.apache.spark.sql.Dataset[(Int, Int, Int)] = [_1: int, _2: int ... 1 more field]\n"
      ]
     },
     "execution_count": 1,
     "metadata": {},
     "output_type": "execute_result"
    }
   ],
   "source": [
    "val data = Seq((1,2,3), (6,7,8), (9,19,10))\n",
    "val ds = spark.createDataset(data)\n",
    "ds.show()"
   ]
  },
  {
   "cell_type": "code",
   "execution_count": 1,
   "metadata": {},
   "outputs": [
    {
     "data": {
      "text/plain": [
       "Intitializing Scala interpreter ..."
      ]
     },
     "metadata": {},
     "output_type": "display_data"
    },
    {
     "data": {
      "text/plain": [
       "Spark Web UI available at http://10.0.0.169:4040\n",
       "SparkContext available as 'sc' (version = 3.0.0, master = local[*], app id = local-1594286509606)\n",
       "SparkSession available as 'spark'\n"
      ]
     },
     "metadata": {},
     "output_type": "display_data"
    },
    {
     "ename": "<console>",
     "evalue": "29: error: not found: value outputFile",
     "output_type": "error",
     "traceback": [
      "<console>:29: error: not found: value outputFile",
      "       data.saveAsSequenceFile( outputFile)",
      "                                ^",
      ""
     ]
    }
   ],
   "source": [
    "val data = sc.parallelize( List((\" Panda\", 3), (\" Kay\", 6), (\" Snail\", 2))) \n",
    "\n",
    "data.saveAsSequenceFile(\"/tmp/sequentialFile.dat\")"
   ]
  },
  {
   "cell_type": "code",
   "execution_count": 3,
   "metadata": {},
   "outputs": [
    {
     "data": {
      "text/plain": [
       "numbers: org.apache.spark.sql.DataFrame = [IgnoreServiceUntil: timestamp, MBall: bigint ... 10 more fields]\n",
       "res2: Array[org.apache.spark.sql.Row] = Array([2018-12-31 14:02:03.0,15,2,2,9,43,49,63,2020-02-25 00:00:00.0,637181856000000000,SERVICE,2020-02-28 23:07:05.0], [2018-12-31 14:02:03.0,6,4,4,7,13,16,60,2020-02-21 00:00:00.0,637178400000000000,SERVICE,2020-02-25 23:08:05.0])\n"
      ]
     },
     "execution_count": 3,
     "metadata": {},
     "output_type": "execute_result"
    }
   ],
   "source": [
    "val numbers = spark.read.json(\"mega_millions_numbers.dat\")\n",
    "numbers.count()\n",
    "numbers.take(2)\n"
   ]
  },
  {
   "cell_type": "code",
   "execution_count": 9,
   "metadata": {},
   "outputs": [
    {
     "name": "stdout",
     "output_type": "stream",
     "text": [
      "4,5,6,7\n"
     ]
    },
    {
     "data": {
      "text/plain": [
       "input: org.apache.spark.rdd.RDD[Int] = ParallelCollectionRDD[31] at parallelize at <console>:28\n",
       "result: org.apache.spark.rdd.RDD[Int] = MapPartitionsRDD[32] at map at <console>:29\n"
      ]
     },
     "execution_count": 9,
     "metadata": {},
     "output_type": "execute_result"
    }
   ],
   "source": [
    "val input = sc.parallelize( List( 1, 2, 3, 4))\n",
    "val result = input.map( x => x +3) \n",
    "println( result.collect(). mkString(\",\"))"
   ]
  }
 ],
 "metadata": {
  "kernelspec": {
   "display_name": "spylon-kernel",
   "language": "scala",
   "name": "spylon-kernel"
  },
  "language_info": {
   "codemirror_mode": "text/x-scala",
   "file_extension": ".scala",
   "help_links": [
    {
     "text": "MetaKernel Magics",
     "url": "https://metakernel.readthedocs.io/en/latest/source/README.html"
    }
   ],
   "mimetype": "text/x-scala",
   "name": "scala",
   "pygments_lexer": "scala",
   "version": "0.4.1"
  }
 },
 "nbformat": 4,
 "nbformat_minor": 2
}
